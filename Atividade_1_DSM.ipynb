{
  "nbformat": 4,
  "nbformat_minor": 0,
  "metadata": {
    "colab": {
      "name": "Atividade 1 - DSM",
      "provenance": [],
      "authorship_tag": "ABX9TyM5zmUGmQ/ol/3ZCSFZ6cwv",
      "include_colab_link": true
    },
    "kernelspec": {
      "name": "python3",
      "display_name": "Python 3"
    },
    "language_info": {
      "name": "python"
    }
  },
  "cells": [
    {
      "cell_type": "markdown",
      "metadata": {
        "id": "view-in-github",
        "colab_type": "text"
      },
      "source": [
        "<a href=\"https://colab.research.google.com/github/aguilarafa2010/Data-Stream-Mining/blob/main/Atividade_1_DSM.ipynb\" target=\"_parent\"><img src=\"https://colab.research.google.com/assets/colab-badge.svg\" alt=\"Open In Colab\"/></a>"
      ]
    },
    {
      "cell_type": "markdown",
      "metadata": {
        "id": "TjQmhUzPQnKV"
      },
      "source": [
        ""
      ]
    },
    {
      "cell_type": "code",
      "metadata": {
        "id": "mon9PZmQUriV"
      },
      "source": [
        "import numpy as np\n",
        "from numpy import linalg\n"
      ],
      "execution_count": 1,
      "outputs": []
    },
    {
      "cell_type": "code",
      "metadata": {
        "id": "U-Xh4HzkRCpO"
      },
      "source": [
        "def inicializar(x, qtde):\n",
        "  return x[:qtde]"
      ],
      "execution_count": 2,
      "outputs": []
    },
    {
      "cell_type": "code",
      "metadata": {
        "id": "JbY2PHV8U1ML"
      },
      "source": [
        "def ecutTeste(w0, w1, W, delta):\n",
        "\n",
        "  m = 2 / ((1/linalg.norm(w0)) + (1/linalg.norm(w1)))\n",
        "  ecut = np.sqrt((1/(2*m)) * np.log(4*linalg.norm(W)/delta))\n",
        "  return ecut"
      ],
      "execution_count": 3,
      "outputs": []
    },
    {
      "cell_type": "code",
      "metadata": {
        "id": "VSAg1hJ-Qh3t"
      },
      "source": [
        "def teste(delta, stream):\n",
        "\n",
        "  qtde = 2\n",
        "  W = inicializar(stream, qtde)\n",
        "\n",
        "  for xi in stream[2:]:\n",
        "    W.insert(0, xi)\n",
        "    flag = False\n",
        "    i = len(W)-1\n",
        "\n",
        "    while ((not(flag)) and (i > 0)):\n",
        "\n",
        "      w0 = W[:i]\n",
        "      w1 = W[i:len(W)]\n",
        "\n",
        "      u0 = np.mean(w0)\n",
        "      u1 = np.mean(w1)\n",
        "\n",
        "      ecut = ecutTeste(w0, w1, W, delta)\n",
        "\n",
        "      if np.abs(u0 - u1) > ecut:\n",
        "        flag = True\n",
        "        # Retirar o último elemento de W\n",
        "      i = i-1\n",
        "      \n",
        "    if flag == True:\n",
        "      print(\"Flag: \", qtde)\n",
        "\n",
        "    qtde = qtde + 1\n",
        "  return np.mean(W)"
      ],
      "execution_count": 4,
      "outputs": []
    },
    {
      "cell_type": "code",
      "metadata": {
        "id": "3O5M9spAYF9v"
      },
      "source": [
        "serie1 = [0.2,0.3,0.1,0.99,0.99,0.99,0.2,0.1,0.2,0.2,0.2,0.1]\n",
        "\n",
        "serie2 = [0.2,0.3,0.1,0.99,0.99,0.99,0.2,0.1,0.2,0.2,0.2,0.1,0.2,0.3,0.1,0.1,0.2,0.2,0.2,0.1,0.2,0.3,0.1,0.99,0.99,0.99,0.2,0.1,0.2,0.2,0.2,0.1]\n",
        "\n",
        "serie3 = [0.1,0.2,0.2,0.2,0.2,0.2,0.2,0.3,0.1,0.1,0.2,0.2,0.2,0.2,0.2,0.2,0.3,0.1,0.1,0.2,0.2,0.2,0.2,0.2,0.2,\n",
        "0.3,0.1,0.1,0.2,0.2,0.2,0.2,0.2,0.2,0.3,0.1,0.1,0.2,0.2,0.2,0.2,0.2,0.2,0.3,0.1,0.1,0.2,0.2,0.2,0.2,0.2,0.2,0.3,0.1,0.9,0.9,0.9,0.8,0.8,0.9,0.8,0.9,1.0,0.9,0.9,0.9,0.8,0.8,0.9,0.8,0.9,1.0,0.9,0.9,0.9,0.8,0.8,0.9,0.8,0.9,1.0,0.9,0.9,0.9,0.8,0.8,0.9,0.8,0.9,1.0,0.9,0.9,0.9,0.8,0.8,0.9,0.8,0.9,1.0,0.9,0.9\n",
        ",0.9,0.8,0.8,0.9,0.8,0.9,1.0,0.2,0.2,0.2,0.3,0.1,0.1,0.2,0.2,0.2,0.2,0.2,0.2,0.3,0.1,0.1,0.2,0.2,0.2,0.2,0.2,0.2,0.3,0.1,0.1,0.2,0.2,0.2,0.2,0.2,0.2,0.2,0.2,0.2,0.3,0.1,0.1,0.2,0.2,0.2,0.2,0.2,0.2,0.3,0.1,0.1,0.2,0.2,0.2,0.2,0.2,0.2,0.3,0.1,0.1,0.2,0.2,0.2,0.2,0.2,0.2]"
      ],
      "execution_count": 5,
      "outputs": []
    },
    {
      "cell_type": "code",
      "metadata": {
        "colab": {
          "base_uri": "https://localhost:8080/"
        },
        "id": "9wA-vEjZYhPR",
        "outputId": "8aa31638-8fea-4349-94e9-a89e959d401c"
      },
      "source": [
        "x = teste(0.5, serie3)\n",
        "print(x)"
      ],
      "execution_count": 6,
      "outputs": [
        {
          "output_type": "stream",
          "text": [
            "0.4107142857142857\n"
          ],
          "name": "stdout"
        }
      ]
    }
  ]
}